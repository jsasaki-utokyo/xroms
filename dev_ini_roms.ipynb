{
 "cells": [
  {
   "cell_type": "markdown",
   "metadata": {},
   "source": [
    "# ROMS netcdf check for initial condition\n",
    "**Author: Jun Sasaki, Coded on August 30, 2020, Updated on September 1, 2020**<br>\n",
    "A sample code for manipulating `Projects/Sandy/Sandy_ini.nc`\n",
    "\n",
    "- Checking an initial condition netcdf file for ROMS in COAWST based on [ROMS Ocean Model](http://xarray.pydata.org/en/stable/examples/ROMS_ocean_model.html) Example."
   ]
  },
  {
   "cell_type": "code",
   "execution_count": null,
   "metadata": {},
   "outputs": [],
   "source": [
    "import numpy as np\n",
    "from netCDF4 import num2date, date2num\n",
    "import datetime\n",
    "import pandas as pd\n",
    "import cartopy.crs as ccrs\n",
    "import cartopy.feature as cfeature\n",
    "import matplotlib.pyplot as plt\n",
    "import xarray as xr\n",
    "import hvplot.xarray\n",
    "import holoviews as hv\n",
    "from geoviews import opts\n",
    "import warnings\n",
    "warnings.filterwarnings('ignore')\n",
    "%matplotlib inline"
   ]
  },
  {
   "cell_type": "markdown",
   "metadata": {},
   "source": [
    "# Reading grid and initial condition netcdf files\n",
    "- Variables are consistent with an example of [roms xarray](http://xarray.pydata.org/en/stable/examples/ROMS_ocean_model.html).\n",
    "- times contains only one element due to initial condition\n",
    "- See [Coordinate system of (xi, eta)](https://www.myroms.org/wiki/Fractional_Coordinate_System_(%CE%BE_-_%CE%B7_space))\n",
    "- Info about S coordinate is given in Sandy_ini.nc.\n",
    "- Bathymetry in positive (m) `dsg.h(eta_rho:65, xi_rho:87)` (65 rows, 87 columns)\n",
    "- Salinity `ds.salt(time:1, sc_r:16, erho:65, xrho:87)`\n",
    "- `ds.salt[0,:,0,50]` = array(34.931698, 34.9347  , ..., 36.40495 , 36.405586)\n",
    " - Seems to be assigned from surface to bottom but according to HYCOM, surface layer salinity is higher than deep layer salinity (surprisingly); thus assigned from bottom to surface.\n",
    "- Temperature `ds.temp(time:1, sc_r:16, erho:65, xrho:87)`\n",
    "- `ds.temp[0,:,0,50]` = array(1.946742,  2.38324 , ..., 26.159126, 26.154554)\n",
    " - `ds.temp(sc_r)` is assigned from bottom to surface. \n",
    "- S coordinate `ds.sc_r` = array(-0.96875, -0.90625, ..., -0.03125)"
   ]
  },
  {
   "cell_type": "code",
   "execution_count": null,
   "metadata": {},
   "outputs": [],
   "source": [
    "grid_nc = './Sandy_roms_grid.nc'\n",
    "ini_nc = \"./Sandy_ini.nc\"\n",
    "#grid_nc = './training/Sandy_roms_grid.nc'\n",
    "#ini_nc = \"./training/coawst_ini.nc\"\n",
    "\n",
    "with xr.open_dataset(grid_nc) as dsg:\n",
    "    pass\n",
    "with xr.open_dataset(ini_nc) as ds:\n",
    "    pass"
   ]
  },
  {
   "cell_type": "code",
   "execution_count": null,
   "metadata": {},
   "outputs": [],
   "source": [
    "ds.sc_r\n",
    "ds.temp[0,:,0,50]\n",
    "ds.salt[0,:,0,50]\n",
    "ds.zeta\n",
    "ds"
   ]
  },
  {
   "cell_type": "code",
   "execution_count": null,
   "metadata": {},
   "outputs": [],
   "source": [
    "### Define h in ds using dsg.h\n",
    "ds['h']=(('erho', 'xrho'), dsg.h)\n",
    "ds['h'].attrs[\"long_name\"] = \"Final bathymetry at RHO-points\"\n",
    "ds['h'].attrs[\"units\"] = \"meter\"\n",
    "ds['h'].attrs[\"field\"] = \"bath, scalar\"\n",
    "\n",
    "### Set dimension time as coords using ocean_time\n",
    "### Coords should be consistent with dimension; thus time should be defined.\n",
    "### Modified Julian Date：MJD\n",
    "mjd = '1858-11-17 00:00:00'\n",
    "ds.coords['time'] = (('time'), np.datetime64(mjd) + ds['ocean_time'])\n",
    "#ds.coords['time'] = ds['ocean_time']\n",
    "ds['time'].attrs[\"long_name\"] = \"Time\"\n",
    "ds.coords['xrho'] = ds['xrho']\n",
    "ds.coords['erho'] = ds['erho']"
   ]
  },
  {
   "cell_type": "markdown",
   "metadata": {},
   "source": [
    "## Add a lazily (incrementally 追加的に) calculated vertial coordinates\n",
    "- This is given in a [roms xarray example](http://xarray.pydata.org/en/stable/examples/ROMS_ocean_model.html)."
   ]
  },
  {
   "cell_type": "code",
   "execution_count": null,
   "metadata": {},
   "outputs": [],
   "source": [
    "if ds.Vtransform == 1:\n",
    "    Zo_rho = ds.hc * (ds.sc_r - ds.Cs_r) + ds.Cs_r * ds.h\n",
    "    z_rho = Zo_rho + ds.zeta * (1 + Zo_rho/ds.h)\n",
    "elif ds.Vtransform == 2:\n",
    "    Zo_rho = (ds.hc * ds.sc_r + ds.Cs_r * ds.h) / (ds.hc + ds.h)\n",
    "    z_rho = ds.zeta + (ds.zeta + ds.h) * Zo_rho\n",
    "\n",
    "ds.coords['z_rho'] = z_rho.transpose()   # needing transpose seems to be an xarray bug\n",
    "\n",
    "ds['z_rho'].attrs['long_name'] = 'Depth'\n",
    "ds['z_rho'].attrs['units'] = 'm'\n",
    "ds['z_rho'].attrs['field'] = 'depth, scalar, series'\n",
    "ds"
   ]
  },
  {
   "cell_type": "code",
   "execution_count": null,
   "metadata": {},
   "outputs": [],
   "source": [
    "#ds['z_rho'] = ds['z_rho'][::-1,:,:,:]\n",
    "#ds.coords['z_rho'] = ds['z_rho']\n",
    "#ds.coords['z_rho']\n",
    "#print(ds['z_rho'][::-1,62,:,:])\n",
    "#print(ds['sc_r'])\n",
    "#ds['zrho'] = ds['z_rho'][::-1,:,:,:]\n",
    "#ds['zrho'][::-1,62,0,0]\n",
    "#ds.coords['z_rho']=ds['z_rho'][::-1,:,:,:]\n",
    "#ds['z_rho'][0,0,0,:]"
   ]
  },
  {
   "cell_type": "code",
   "execution_count": null,
   "metadata": {},
   "outputs": [],
   "source": [
    "z='salt'\n",
    "cmap='magma_r'\n",
    "frame_height=300\n",
    "frame_width=300\n",
    "project = ccrs.PlateCarree()"
   ]
  },
  {
   "cell_type": "markdown",
   "metadata": {},
   "source": [
    "# Interactive plotting with [hvPlot](https://hvplot.holoviz.org/)"
   ]
  },
  {
   "cell_type": "markdown",
   "metadata": {},
   "source": [
    "## Plan view\n",
    "- Set x-axis range: `xarray.Dataset.hvplot.quadmesh(xlim=(xmin, xmax))`\n",
    "- Set num of color levels: `p.opts(opts.QuadMesh(color_levels=20))`\n",
    "- Set value range: `xarray.Dataset.hvplot.quadmesh(clim=(cmin, cmax))`"
   ]
  },
  {
   "cell_type": "code",
   "execution_count": null,
   "metadata": {},
   "outputs": [],
   "source": [
    "line_alpha = None  ###\n",
    "clim = None  ### (cmin, cmax) or None\n",
    "ds.hvplot.quadmesh(groupby=['sc_r','time'], x='xrho', y='erho',z=z , \\\n",
    "                   geo=True , project=project, tiles=None, coastline='10m', \\\n",
    "                   frame_height=frame_height, clim=clim, \\\n",
    "                   cmap=cmap, line_color='aqua', line_alpha=line_alpha, line_width=0.1).opts(\n",
    "                   opts.QuadMesh(color_levels=20))"
   ]
  },
  {
   "cell_type": "markdown",
   "metadata": {},
   "source": [
    "### Gets available options for hvplot.quadmesh()\n",
    "- Plot options are specified by `quadmesh().opts()`"
   ]
  },
  {
   "cell_type": "code",
   "execution_count": null,
   "metadata": {},
   "outputs": [],
   "source": [
    "#hv.help(hv.QuadMesh)"
   ]
  },
  {
   "cell_type": "markdown",
   "metadata": {},
   "source": [
    "## Vertical sectional views in S coordinate"
   ]
  },
  {
   "cell_type": "code",
   "execution_count": null,
   "metadata": {},
   "outputs": [],
   "source": [
    "ds.hvplot.quadmesh(groupby=['xrho','time'], x='erho', y='sc_r',z=z , \\\n",
    "                   frame_height=frame_height, frame_width=frame_width, cmap=cmap, \\\n",
    "                   line_color='aqua', line_alpha=1, line_width=0.1)"
   ]
  },
  {
   "cell_type": "code",
   "execution_count": null,
   "metadata": {},
   "outputs": [],
   "source": [
    "ds.hvplot.quadmesh(groupby=['erho','time'], x='xrho', y='sc_r',z=z , \\\n",
    "                   frame_height=frame_height, frame_width=frame_width, cmap=cmap, \\\n",
    "                   line_color='aqua', line_alpha=1, line_width=0.1)"
   ]
  },
  {
   "cell_type": "markdown",
   "metadata": {},
   "source": [
    "## Vertical sectional views in z coordinate"
   ]
  },
  {
   "cell_type": "code",
   "execution_count": null,
   "metadata": {},
   "outputs": [],
   "source": [
    "ds.hvplot.quadmesh(groupby=['xrho','time'], x='erho', y='z_rho',z=z , \\\n",
    "                   frame_height=frame_height, frame_width=frame_width, cmap=cmap, \\\n",
    "                   line_color='aqua', line_alpha=1, line_width=0.1)"
   ]
  },
  {
   "cell_type": "code",
   "execution_count": null,
   "metadata": {},
   "outputs": [],
   "source": [
    "ds.hvplot.quadmesh(groupby=['erho','time'], x='xrho', y='z_rho',z=z , \\\n",
    "                   frame_height=frame_height, frame_width=frame_width, cmap=cmap, \\\n",
    "                   line_color='aqua', line_alpha=1, line_width=0.1).opts(bgcolor='lightgray')"
   ]
  },
  {
   "cell_type": "markdown",
   "metadata": {},
   "source": [
    "# Plotting with matplotlib"
   ]
  },
  {
   "cell_type": "markdown",
   "metadata": {},
   "source": [
    "## Plan view"
   ]
  },
  {
   "cell_type": "code",
   "execution_count": null,
   "metadata": {},
   "outputs": [],
   "source": [
    "ds[z].isel(sc_r=0, time=0).plot(x='xrho', y='erho', extend='both', cmap='magma_r')"
   ]
  },
  {
   "cell_type": "code",
   "execution_count": null,
   "metadata": {},
   "outputs": [],
   "source": [
    "p=ds[z].isel(sc_r=0, time=0).plot(x='xrho', y='erho', extend='both', cmap='magma_r',\\\n",
    "                                           vmin=31, vmax=36, alpha=1, edgecolor='aqua', linewidth=0.01)\n",
    "p.axes.set_xlim(40, 70)\n",
    "p.axes.set_ylim(30, 50)\n",
    "p.figure.savefig('temp.png', dpi=300, bbox_inches='tight')"
   ]
  },
  {
   "cell_type": "markdown",
   "metadata": {},
   "source": [
    "## Vertical sectional views in S coordinate"
   ]
  },
  {
   "cell_type": "code",
   "execution_count": null,
   "metadata": {},
   "outputs": [],
   "source": [
    "ds[z].isel(erho=0, time=0).plot.pcolormesh(x='xrho', y='sc_r', extend='both', cmap='magma_r')"
   ]
  },
  {
   "cell_type": "code",
   "execution_count": null,
   "metadata": {},
   "outputs": [],
   "source": [
    "ds[z].isel(xrho=0, time=0).plot.pcolormesh(x='erho', y='sc_r', extend='both', cmap='magma_r')"
   ]
  },
  {
   "cell_type": "markdown",
   "metadata": {},
   "source": [
    "## Vertical sectional view in z coordinate"
   ]
  },
  {
   "cell_type": "code",
   "execution_count": null,
   "metadata": {},
   "outputs": [],
   "source": [
    "ds[z].isel(erho=0, time=0).plot.pcolormesh(x='xrho', y='z_rho', extend='both', cmap='magma_r')"
   ]
  },
  {
   "cell_type": "code",
   "execution_count": null,
   "metadata": {},
   "outputs": [],
   "source": [
    "p=ds[z].isel(xrho=15, time=0).plot.pcolormesh(x='erho', y='z_rho', extend='both', \\\n",
    "                                                        cmap='magma_r')\n",
    "p.axes.set_facecolor('lightgray')"
   ]
  },
  {
   "cell_type": "code",
   "execution_count": null,
   "metadata": {},
   "outputs": [],
   "source": []
  }
 ],
 "metadata": {
  "kernelspec": {
   "display_name": "Python 3",
   "language": "python",
   "name": "python3"
  },
  "language_info": {
   "codemirror_mode": {
    "name": "ipython",
    "version": 3
   },
   "file_extension": ".py",
   "mimetype": "text/x-python",
   "name": "python",
   "nbconvert_exporter": "python",
   "pygments_lexer": "ipython3",
   "version": "3.7.8"
  }
 },
 "nbformat": 4,
 "nbformat_minor": 4
}
