{
 "cells": [
  {
   "cell_type": "markdown",
   "metadata": {},
   "source": [
    "# ROMS netcdf check\n",
    "**Author: Jun Sasaki, Coded on August 23, 2020, Updated on August 24, 2020**<br>\n",
    "A sample code for manipulating `Projects/Sandy/Sandy_clm.nc`\n",
    "\n",
    "- Checking initial, boundary, and climatorology netcdf files for ROMS in COAWST based on [ROMS Ocean Model](http://xarray.pydata.org/en/stable/examples/ROMS_ocean_model.html) Example.\n",
    "- No specific s coordinate is defined in Sandy example; thus sigma coordinate (-1 to 0) is assumed."
   ]
  },
  {
   "cell_type": "code",
   "execution_count": null,
   "metadata": {},
   "outputs": [],
   "source": [
    "import numpy as np\n",
    "from netCDF4 import num2date, date2num\n",
    "import datetime\n",
    "import pandas as pd\n",
    "import cartopy.crs as ccrs\n",
    "import cartopy.feature as cfeature\n",
    "import matplotlib.pyplot as plt\n",
    "import xarray as xr\n",
    "import hvplot.xarray\n",
    "import holoviews as hv\n",
    "from geoviews import opts\n",
    "import warnings\n",
    "warnings.filterwarnings('ignore')\n",
    "%matplotlib inline"
   ]
  },
  {
   "cell_type": "markdown",
   "metadata": {},
   "source": [
    "# Reading grid netcdf file\n",
    "- See [Coordinate system of (xi, eta)](https://www.myroms.org/wiki/Fractional_Coordinate_System_(%CE%BE_-_%CE%B7_space))"
   ]
  },
  {
   "cell_type": "code",
   "execution_count": null,
   "metadata": {},
   "outputs": [],
   "source": [
    "grid_nc = './Sandy_roms_grid.nc'\n",
    "#grid_nc = './training/Sandy_roms_grid.nc'\n",
    "\n",
    "with xr.open_dataset(grid_nc) as grd:\n",
    "    pass\n",
    "grd"
   ]
  },
  {
   "cell_type": "markdown",
   "metadata": {},
   "source": [
    "# Reading climatology netcdf file"
   ]
  },
  {
   "cell_type": "code",
   "execution_count": null,
   "metadata": {},
   "outputs": [],
   "source": [
    "clm_nc = \"./Sandy_clm.nc\"\n",
    "#clm_nc = \"./training/merged_coawst_clm.nc\"\n",
    "\n",
    "with xr.open_dataset(clm_nc) as ds:\n",
    "    pass"
   ]
  },
  {
   "cell_type": "markdown",
   "metadata": {},
   "source": [
    "## Chunking and creating sigma coordinate"
   ]
  },
  {
   "cell_type": "code",
   "execution_count": null,
   "metadata": {},
   "outputs": [],
   "source": [
    "### ここでのChunk（チャンク）は時系列データを先頭から一定の長さで分割した断片的なデータ集合\n",
    "### ds.chunk({'salt_time':1}) は DataSetを salt_time について1タイムステップ毎に分割\n",
    "ds = ds.chunk({'ocean_time':1})  ### Any time may be ok for chunking.\n",
    "\n",
    "### Converting to sigma coordinate\n",
    "ds_rho = 1.0/len(ds['s_rho'])\n",
    "ds['s_rho']=-ds_rho/2.0 + ds['s_rho'] * (-ds_rho)\n",
    "\n",
    "ds.coords['s_rho']=ds['s_rho']\n",
    "ds.coords['erho']=ds['erho']\n",
    "ds.coords['xrho']=ds['xrho']\n",
    "ds.coords['lon_rho']=ds['lon_rho']\n",
    "ds.coords['lat_rho']=ds['lat_rho']\n",
    "ds['s_rho'].attrs[\"long_name\"] = 'sigma'\n",
    "ds['lon_rho'].attrs[\"long_name\"] = 'lon_rho'\n",
    "ds['lat_rho'].attrs[\"long_name\"] = 'lat_rho'\n",
    "\n",
    "### Modified Julian Date：MJD\n",
    "mjd = '1858-11-17 00:00:00'\n",
    "for s in ['ocean_time', 'zeta_time', 'v2d_time', 'v3d_time', 'salt_time', 'temp_time']:\n",
    "    ds[s] = np.datetime64(mjd) + ds[s]"
   ]
  },
  {
   "cell_type": "markdown",
   "metadata": {},
   "source": [
    "## Creating z coordinate values as `z_rho`\n",
    "- See **Dictionary like methods** section in [data_structures](http://xarray.pydata.org/en/stable/data-structures.html)\n",
    "- **Notice:** z_rho should be a function of time, which is ignored; consideration is required how to deal with. "
   ]
  },
  {
   "cell_type": "code",
   "execution_count": null,
   "metadata": {},
   "outputs": [],
   "source": [
    "def s_to_z_rho(ds, grd, itime):\n",
    "    '''\n",
    "    Creating z_rho (z coordinate value array at z_rho) using inver sigma-coordinate transform equation\n",
    "    \n",
    "    Args:\n",
    "        ds  (xarray.Dataset) : Coordinates and variables\n",
    "        grd (xarray.Dataset) : Grid\n",
    "        itime (int) : Index value of time coordinate\n",
    "    Returns:\n",
    "        z_rho (ndarray) : z coordinate value array at (itime, s_rho[:], erho[:], xrho[:])\n",
    "    '''\n",
    "\n",
    "    z_rho = ds['zeta'][itime,:,:].values + \\\n",
    "    ds['s_rho'][0].values * (grd['h'].values + ds['zeta'][itime,:,:].values)\n",
    "    #print(z_rho.shape)\n",
    "    z_rho = z_rho[np.newaxis,:,:]  ### extend dimension\n",
    "    #print(z_rho.shape)\n",
    "    for k in np.arange(1, len(ds['s_rho'])):\n",
    "        z_rho1 = ds['zeta'][itime,:,:].values + \\\n",
    "                 ds['s_rho'][k].values * (grd['h'].values + ds['zeta'][itime,:,:].values)\n",
    "        z_rho1 = z_rho1[np.newaxis,:,:]\n",
    "        #print(z_rho1.shape)\n",
    "        z_rho = np.vstack((z_rho, z_rho1))\n",
    "    return z_rho"
   ]
  },
  {
   "cell_type": "code",
   "execution_count": null,
   "metadata": {},
   "outputs": [],
   "source": [
    "ds.coords['z_rho']=(('s_rho', 'erho', 'xrho'),s_to_z_rho(ds, grd, itime=0))\n",
    "ds['z_rho'].attrs['long_name'] = 'Depth'\n",
    "ds['z_rho'].attrs['units'] = 'm'\n",
    "ds['z_rho'].attrs['field'] = 'depth, scalar, series'\n",
    "ds"
   ]
  },
  {
   "cell_type": "markdown",
   "metadata": {},
   "source": [
    "# Interactive plotting with [hvPlot](https://hvplot.holoviz.org/)\n",
    "## Plot configuration\n",
    "- To plot edge lines, `line_alpha` (0-1) should be a positive value."
   ]
  },
  {
   "cell_type": "code",
   "execution_count": null,
   "metadata": {},
   "outputs": [],
   "source": [
    "z='salt'\n",
    "cmap='magma_r'\n",
    "frame_height=300\n",
    "frame_width=300\n",
    "project = ccrs.PlateCarree()"
   ]
  },
  {
   "cell_type": "markdown",
   "metadata": {},
   "source": [
    "## Plan view\n",
    "- Set x-axis range: `xarray.Dataset.hvplot.quadmesh(xlim=(xmin, xmax))`\n",
    "- Set num of color levels: `p.opts(opts.QuadMesh(color_levels=20))`\n",
    "- Set value range: `xarray.Dataset.hvplot.quadmesh(clim=(cmin, cmax))`"
   ]
  },
  {
   "cell_type": "code",
   "execution_count": null,
   "metadata": {},
   "outputs": [],
   "source": [
    "line_alpha = None  ###\n",
    "clim = None  ### (cmin, cmax) or None\n",
    "ds.hvplot.quadmesh(groupby=['s_rho','salt_time'], x='lon_rho', y='lat_rho',z=z , \\\n",
    "                   geo=True , project=project, tiles=None, coastline='10m', \\\n",
    "                   frame_height=frame_height, clim=clim, \\\n",
    "                   cmap=cmap, line_color='aqua', line_alpha=line_alpha, line_width=0.1).opts(\n",
    "                   opts.QuadMesh(color_levels=20))"
   ]
  },
  {
   "cell_type": "markdown",
   "metadata": {},
   "source": [
    "### Gets available options for hvplot.quadmesh()\n",
    "- Plot options are specified by `quadmesh().opts()`"
   ]
  },
  {
   "cell_type": "code",
   "execution_count": null,
   "metadata": {},
   "outputs": [],
   "source": [
    "hv.help(hv.QuadMesh)"
   ]
  },
  {
   "cell_type": "markdown",
   "metadata": {},
   "source": [
    "## Vertical sectional views in sigma coordinate"
   ]
  },
  {
   "cell_type": "code",
   "execution_count": null,
   "metadata": {},
   "outputs": [],
   "source": [
    "ds.hvplot.quadmesh(groupby=['xrho','salt_time'], x='erho', y='s_rho',z=z , \\\n",
    "                   frame_height=frame_height, frame_width=frame_width, cmap=cmap, \\\n",
    "                   line_color='aqua', line_alpha=1, line_width=0.1)"
   ]
  },
  {
   "cell_type": "code",
   "execution_count": null,
   "metadata": {},
   "outputs": [],
   "source": [
    "ds.hvplot.quadmesh(groupby=['erho','salt_time'], x='xrho', y='s_rho',z=z , \\\n",
    "                   frame_height=frame_height, frame_width=frame_width, cmap=cmap, \\\n",
    "                   line_color='aqua', line_alpha=1, line_width=0.1)"
   ]
  },
  {
   "cell_type": "markdown",
   "metadata": {},
   "source": [
    "## Vertical sectional view in z coordinate"
   ]
  },
  {
   "cell_type": "code",
   "execution_count": null,
   "metadata": {},
   "outputs": [],
   "source": [
    "ds.hvplot.quadmesh(groupby=['xrho','salt_time'], x='erho', y='z_rho',z=z , \\\n",
    "                   frame_height=frame_height, frame_width=frame_width, cmap=cmap, \\\n",
    "                   line_color='aqua', line_alpha=1, line_width=0.1)"
   ]
  },
  {
   "cell_type": "code",
   "execution_count": null,
   "metadata": {},
   "outputs": [],
   "source": [
    "ds.hvplot.quadmesh(groupby=['erho','salt_time'], x='xrho', y='z_rho',z=z , \\\n",
    "                   frame_height=frame_height, frame_width=frame_width, cmap=cmap, \\\n",
    "                   line_color='aqua', line_alpha=1, line_width=0.1).opts(bgcolor='lightgray')"
   ]
  },
  {
   "cell_type": "markdown",
   "metadata": {},
   "source": [
    "# Plotting with matplotlib"
   ]
  },
  {
   "cell_type": "markdown",
   "metadata": {},
   "source": [
    "## Plan view"
   ]
  },
  {
   "cell_type": "code",
   "execution_count": null,
   "metadata": {},
   "outputs": [],
   "source": [
    "ds[z].isel(s_rho=0, salt_time=0).plot(x='lon_rho', y='lat_rho', extend='both', cmap='magma_r')"
   ]
  },
  {
   "cell_type": "code",
   "execution_count": null,
   "metadata": {},
   "outputs": [],
   "source": [
    "p=ds[z].isel(s_rho=0, salt_time=0).plot(x='lon_rho', y='lat_rho', extend='both', cmap='magma_r',\\\n",
    "                                           vmin=31, vmax=36, alpha=1, edgecolor='aqua', linewidth=0.01)\n",
    "p.axes.set_xlim(-77.5, -72.5)\n",
    "p.axes.set_ylim(34, 38)\n",
    "p.figure.savefig('temp.png', dpi=300, bbox_inches='tight')"
   ]
  },
  {
   "cell_type": "markdown",
   "metadata": {},
   "source": [
    "## Vertical sectional view in sigma coordinate"
   ]
  },
  {
   "cell_type": "code",
   "execution_count": null,
   "metadata": {},
   "outputs": [],
   "source": [
    "ds[z].isel(erho=0, salt_time=0).plot.pcolormesh(x='lon_rho', y='s_rho', extend='both', cmap='magma_r')"
   ]
  },
  {
   "cell_type": "code",
   "execution_count": null,
   "metadata": {},
   "outputs": [],
   "source": [
    "ds[z].isel(xrho=0, salt_time=0).plot.pcolormesh(x='lat_rho', y='s_rho', extend='both', cmap='magma_r')"
   ]
  },
  {
   "cell_type": "markdown",
   "metadata": {},
   "source": [
    "## Vertical sectional view in z coordinate"
   ]
  },
  {
   "cell_type": "code",
   "execution_count": null,
   "metadata": {},
   "outputs": [],
   "source": [
    "ds[z].isel(erho=0, salt_time=0).plot.pcolormesh(x='lon_rho', y='z_rho', extend='both', cmap='magma_r')"
   ]
  },
  {
   "cell_type": "code",
   "execution_count": null,
   "metadata": {},
   "outputs": [],
   "source": [
    "p=ds[z].isel(xrho=15, salt_time=0).plot.pcolormesh(x='lat_rho', y='z_rho', extend='both', \\\n",
    "                                                        cmap='magma_r')\n",
    "p.axes.set_facecolor('lightgray')"
   ]
  }
 ],
 "metadata": {
  "kernelspec": {
   "display_name": "Python 3",
   "language": "python",
   "name": "python3"
  },
  "language_info": {
   "codemirror_mode": {
    "name": "ipython",
    "version": 3
   },
   "file_extension": ".py",
   "mimetype": "text/x-python",
   "name": "python",
   "nbconvert_exporter": "python",
   "pygments_lexer": "ipython3",
   "version": "3.7.8"
  }
 },
 "nbformat": 4,
 "nbformat_minor": 4
}
