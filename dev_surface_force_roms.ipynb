{
 "cells": [
  {
   "cell_type": "markdown",
   "metadata": {},
   "source": [
    "# ROMS surface forcing netcdf check\n",
    "**Author: Jun Sasaki, Coded on September 13, 2020, Updated on September 13, 2020**<br>\n",
    "A sample code for manipulating `Projects/Sandy/romsforc_NARR.nc`\n",
    "\n",
    "- See [ROMS Ocean Model](http://xarray.pydata.org/en/stable/examples/ROMS_ocean_model.html) "
   ]
  },
  {
   "cell_type": "code",
   "execution_count": null,
   "metadata": {},
   "outputs": [],
   "source": [
    "import numpy as np\n",
    "from netCDF4 import num2date, date2num\n",
    "import datetime\n",
    "import pandas as pd\n",
    "import cartopy.crs as ccrs\n",
    "import cartopy.feature as cfeature\n",
    "from cartopy.io.img_tiles import Stamen\n",
    "from cartopy.io.img_tiles import OSM\n",
    "from cartopy.mpl.ticker import LatitudeFormatter,LongitudeFormatter\n",
    "import matplotlib.pyplot as plt\n",
    "import matplotlib.ticker as mticker\n",
    "import xarray as xr\n",
    "import hvplot.xarray\n",
    "import holoviews as hv\n",
    "from holoviews import opts\n",
    "import warnings\n",
    "warnings.filterwarnings('ignore')\n",
    "#GeoAxes._pcolormesh_patched = Axes.pcolormesh\n",
    "%matplotlib inline"
   ]
  },
  {
   "cell_type": "markdown",
   "metadata": {},
   "source": [
    "# Reading grid netcdf file\n",
    "- See [Coordinate system of (xi, eta)](https://www.myroms.org/wiki/Fractional_Coordinate_System_(%CE%BE_-_%CE%B7_space))"
   ]
  },
  {
   "cell_type": "code",
   "execution_count": null,
   "metadata": {},
   "outputs": [],
   "source": [
    "dir_path = \"../../Projects/Sandy/\"\n",
    "grid_nc = dir_path + 'Sandy_roms_grid.nc'\n",
    "#grid_nc = dir_path + 'training/Sandy_roms_grid.nc'\n",
    "with xr.open_dataset(grid_nc) as grd:\n",
    "    pass\n",
    "grd"
   ]
  },
  {
   "cell_type": "markdown",
   "metadata": {},
   "source": [
    "# Reading tidal forcing netcdf file"
   ]
  },
  {
   "cell_type": "code",
   "execution_count": null,
   "metadata": {},
   "outputs": [],
   "source": [
    "surface_nc = dir_path + \"romsforc_NARR_Sandy2012.nc\"\n",
    "#surface_nc = dir_path + \"training/romsforc_NARR_Sandy2012.nc\"\n",
    "with xr.open_dataset(surface_nc) as ds:\n",
    "    pass"
   ]
  },
  {
   "cell_type": "code",
   "execution_count": null,
   "metadata": {},
   "outputs": [],
   "source": [
    "ds"
   ]
  },
  {
   "cell_type": "code",
   "execution_count": null,
   "metadata": {},
   "outputs": [],
   "source": [
    "ds.coords['er']=ds['er']\n",
    "ds['er'].attrs['long_name'] = 'e_rho'\n",
    "ds.coords['xr']=ds['xr']\n",
    "ds['xr'].attrs['long_name'] = 'x_rho'\n",
    "ds"
   ]
  },
  {
   "cell_type": "markdown",
   "metadata": {},
   "source": [
    "# Plot configuration"
   ]
  },
  {
   "cell_type": "code",
   "execution_count": null,
   "metadata": {},
   "outputs": [],
   "source": [
    "z='Tair'  ### 'Uwind'/'Vwind'/'Pair'/'Tair'/'Qair'/'rain'/'swrad'/'lwrad'/'lwrad_down' \n",
    "dict_time={'Uwind':'wind_time', 'Vwind':'wind_time', 'Pair':'pair_time', \\\n",
    "           'Tair':'tair_time', 'Qair':'qair_time', 'rain':'rain_time', \\\n",
    "           'swrad':'srf_time', 'lwrad':'lrf_time', 'lwrad_down':'lrf_time'}\n",
    "cmap='magma_r'\n",
    "frame_height=200; frame_width=200\n",
    "proj = ccrs.PlateCarree()"
   ]
  },
  {
   "cell_type": "markdown",
   "metadata": {},
   "source": [
    "# Interactive plotting with [hvPlot](https://hvplot.holoviz.org/)\n",
    "- To plot edge lines, `line_alpha` (0-1) in hvPlot should be a positive value.\n",
    "- Set x-axis range: `xarray.Dataset.hvplot.quadmesh(xlim=(xmin, xmax))`\n",
    "- Set num of color levels: `p.opts(opts.QuadMesh(color_levels=20))`\n",
    "- Set value range: `xarray.Dataset.hvplot.quadmesh(clim=(cmin, cmax))`"
   ]
  },
  {
   "cell_type": "code",
   "execution_count": null,
   "metadata": {},
   "outputs": [],
   "source": [
    "clim = (0, 28)  ### (cmin, cmax)/None\n",
    "ds.hvplot.quadmesh(groupby=[dict_time[z]], x='xr', y='er',z=z , \\\n",
    "                   frame_height=frame_height, frame_width=frame_width, clim=clim, \\\n",
    "                   cmap=cmap, \\\n",
    "                   line_color='aqua', line_alpha=0.5, line_width=0.1).opts( \\\n",
    "                   opts.QuadMesh(color_levels=20))"
   ]
  },
  {
   "cell_type": "markdown",
   "metadata": {},
   "source": [
    "## Plotting in (lon, lat)\n",
    "- `rasterize=True` enhances a speed of plotting with time slider.\n",
    "- `datashade=True` also enhances a speed of plotting with time slider; however `hover=True` does not work."
   ]
  },
  {
   "cell_type": "code",
   "execution_count": null,
   "metadata": {},
   "outputs": [],
   "source": [
    "clim = (0, 28)  ### (cmin, cmax) or None\n",
    "ds.hvplot.quadmesh(groupby=[dict_time[z]], x='lon', y='lat',z=z , \\\n",
    "                   geo=True, coastline='10m', \\\n",
    "                   frame_height=frame_height, frame_width=frame_width, clim=clim, \\\n",
    "                   # line_color='aqua', line_alpha=0.5, line_width=0.1, \\\n",
    "                   # datashade=True, hover=True, \\\n",
    "                   cmap=cmap).opts( \\\n",
    "                   opts.QuadMesh(color_levels=20))"
   ]
  },
  {
   "cell_type": "code",
   "execution_count": null,
   "metadata": {},
   "outputs": [],
   "source": [
    "clim = (0, 28)  ### (cmin, cmax) or None\n",
    "ds.hvplot.quadmesh(groupby=[dict_time[z]], x='lon', y='lat',z=z , \\\n",
    "                   geo=True, coastline='10m', \\\n",
    "                   frame_height=frame_height, frame_width=frame_width, clim=clim, \\\n",
    "                   # line_color='aqua', line_alpha=0.5, line_width=0.1, \\\n",
    "                   # datashade=True, hover=True, \\\n",
    "                   rasterize=True, \\\n",
    "                   cmap=cmap).opts( \\\n",
    "                   opts.QuadMesh(color_levels=20))"
   ]
  },
  {
   "cell_type": "markdown",
   "metadata": {},
   "source": [
    "### Gets available options for hvplot.quadmesh()\n",
    "- Plot options are specified by `quadmesh().opts()`"
   ]
  },
  {
   "cell_type": "code",
   "execution_count": null,
   "metadata": {},
   "outputs": [],
   "source": [
    "#hv.help(hv.QuadMesh)\n",
    "#hvplot.help('quadmesh', generic=True, style=True)"
   ]
  },
  {
   "cell_type": "markdown",
   "metadata": {},
   "source": [
    "# Plotting with matplotlib"
   ]
  },
  {
   "cell_type": "code",
   "execution_count": null,
   "metadata": {},
   "outputs": [],
   "source": [
    "ds[z].isel(tair_time=0).plot(x='xr', y='er', extend='both', cmap='magma_r', \\\n",
    "                             vmin=0, vmax=28, \\\n",
    "                            )"
   ]
  },
  {
   "cell_type": "markdown",
   "metadata": {},
   "source": [
    "## Specify time index without specifying time dimension name"
   ]
  },
  {
   "cell_type": "code",
   "execution_count": null,
   "metadata": {},
   "outputs": [],
   "source": [
    "ds[z][0].plot(x='lon', y='lat', extend='both', cmap='magma_r', \\\n",
    "                             vmin=0, vmax=28, \\\n",
    "                            )"
   ]
  },
  {
   "cell_type": "markdown",
   "metadata": {},
   "source": [
    "## Specify projection and manually plotting axes\n",
    "- Axes ticks and labels do not appear unless manually specifying; thus this example becomes long."
   ]
  },
  {
   "cell_type": "code",
   "execution_count": null,
   "metadata": {},
   "outputs": [],
   "source": [
    "### Start settings by users\n",
    "# Background map\n",
    "#tiler = Stamen('terrain-background')\n",
    "#tiler = OSM()\n",
    "#zoom=2\n",
    "extent = (-100, -70, 20, 50)  ### (lon_min, lon_max, lat_min, lat_max)\n",
    "central_longitude = np.mean(extent[0:2])\n",
    "# central_longitude =ds['lon'].mean().values\n",
    "figsize = (6,4)\n",
    "png = 'surface_forc.png'\n",
    "## Default font size\n",
    "plt.rcParams['font.size'] = 12\n",
    "## Override axes label size\n",
    "axes_label_size = 12\n",
    "## Adjust surorunding margins\n",
    "lon_min, lon_max = extent[0], extent[1]\n",
    "lat_min, lat_max = extent[2], extent[3]\n",
    "## Ticks intervals for lon and lat axes\n",
    "dlon, dlat = (5, 5)\n",
    "### End setting by users\n",
    "\n",
    "xticks = np.arange(lon_min, lon_max, dlon)\n",
    "yticks = np.arange(lat_min, lat_max, dlat)\n",
    "proj = ccrs.PlateCarree(central_longitude=central_longitude)\n",
    "\n",
    "fig = plt.figure(figsize=figsize)\n",
    "ax = plt.axes(projection=proj)\n",
    "\n",
    "ds[z][0].plot(ax=ax, x='lon', y='lat', extend='both', cmap='magma_r',\\\n",
    "              vmin=0, vmax=28, \\\n",
    "              transform=ccrs.PlateCarree(), \\\n",
    "              # alpha=1, edgecolor='aqua', linewidth=0.1\\\n",
    "             )\n",
    "ax.set_extent([lon_min,lon_max,lat_min,lat_max], crs=ccrs.PlateCarree())\n",
    "gl=ax.gridlines(draw_labels=True, xlocs=xticks, ylocs=yticks, linestyle=':', linewidth=1, color='k', alpha=0.8)\n",
    "gl.right_labels=False\n",
    "gl.top_labels=False\n",
    "gl.xlabel_style={'size':axes_label_size}\n",
    "gl.ylabel_style={'size':axes_label_size}\n",
    "gl.xlocator = mticker.FixedLocator(xticks)\n",
    "#ax.add_image(tiler=tiler, zoom=zoom)\n",
    "ax.coastlines()\n",
    "fig.savefig(png, dpi=300, bbox_inches='tight')"
   ]
  },
  {
   "cell_type": "markdown",
   "metadata": {},
   "source": [
    "## Similar to the above but using xhycom.utils"
   ]
  },
  {
   "cell_type": "code",
   "execution_count": null,
   "metadata": {},
   "outputs": [],
   "source": []
  }
 ],
 "metadata": {
  "kernelspec": {
   "display_name": "Python 3",
   "language": "python",
   "name": "python3"
  },
  "language_info": {
   "codemirror_mode": {
    "name": "ipython",
    "version": 3
   },
   "file_extension": ".py",
   "mimetype": "text/x-python",
   "name": "python",
   "nbconvert_exporter": "python",
   "pygments_lexer": "ipython3",
   "version": "3.7.8"
  }
 },
 "nbformat": 4,
 "nbformat_minor": 4
}
