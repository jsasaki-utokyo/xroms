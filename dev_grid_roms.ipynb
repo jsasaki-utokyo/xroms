{
 "cells": [
  {
   "cell_type": "markdown",
   "metadata": {},
   "source": [
    "# ROMS grid netcdf and S-coordinate\n",
    "**Author: Jun Sasaki, Coded on September 5, 2020, Updated on September 6, 2020**<br>\n",
    "- A sample code for manipulating `Projects/Sandy/Sandy_roms_grid.nc`\n",
    "- S-coordinate is not included in grid netcdf, which should be specified.\n",
    "- S-coordinate has two options specified by Vtransform. Surface elevation zeta is supposed to be 0.\n",
    "- Reference for setting S-coordinate see [xaray-example](http://xarray.pydata.org/en/stable/examples/ROMS_ocean_model.html) and [Wiki ROMS](https://www.myroms.org/wiki/Vertical_S-coordinate)."
   ]
  },
  {
   "cell_type": "code",
   "execution_count": null,
   "metadata": {},
   "outputs": [],
   "source": [
    "import numpy as np\n",
    "from netCDF4 import num2date, date2num\n",
    "import datetime\n",
    "import pandas as pd\n",
    "import cartopy.crs as ccrs\n",
    "import cartopy.feature as cfeature\n",
    "import matplotlib.pyplot as plt\n",
    "from matplotlib import colors as c\n",
    "import xarray as xr\n",
    "import hvplot.xarray\n",
    "import holoviews as hv\n",
    "from holoviews import opts\n",
    "import warnings\n",
    "warnings.filterwarnings('ignore')\n",
    "%matplotlib inline"
   ]
  },
  {
   "cell_type": "markdown",
   "metadata": {},
   "source": [
    "# Set plotting parameters"
   ]
  },
  {
   "cell_type": "code",
   "execution_count": null,
   "metadata": {},
   "outputs": [],
   "source": [
    "z = 'mask_rho'  ### 'h'/'mask_rho'/'f'/'pm'/'pn'/'dndx'/'dmde'\n",
    "cmap='magma_r'\n",
    "cmap2 = ['darkgoldenrod', 'aqua']\n",
    "frame_height=200; frame_width=200\n",
    "line_color='lightgrey'; line_width=0.1\n",
    "coastline='10m'  ### '10m'/'50m'/'110m'\n",
    "proj = ccrs.LambertConformal(central_longitude=-73, central_latitude=36)  ### Do Not set geo=True when proj is used.\n",
    "### tiles= 'CartoDark'/'CartoEco'/'CartoLight'/'CartoMidnight'/'EsriImagery'/'EsriNatGeo'/'EsriReference'/'ESRI'/\n",
    "###        'EsriTerrain'/'EsriUSATopo'/'OSM'/'StamenLabels'/'StamenTerrain'/'StamenTerrainRetina'/'StamenToner'/\n",
    "###        'StamenTonerBackground'/'StamenWatercolor'\n",
    "tiles = 'StamenTerrain'\n",
    "### geo=True: Geographic and assumed PlateCarree (Do Not set when proj is used.)\n",
    "### Options for S-coordinate\n",
    "Vtransform = 1  ## 1/2\n",
    "smax = 10  ### num of S-coord\n",
    "dsigma = 1.0/smax\n",
    "s_rho_val = np.arange(-1.0+dsigma/2.0, 0.0, dsigma)\n",
    "hc = 20  ### critical depth\n",
    "s_rho_val"
   ]
  },
  {
   "cell_type": "markdown",
   "metadata": {},
   "source": [
    "# Loading grid netcdf into xarray.Dataset and create S-coord and z-coord"
   ]
  },
  {
   "cell_type": "code",
   "execution_count": null,
   "metadata": {},
   "outputs": [],
   "source": [
    "def sigma_to_z_rho(ds, s_rho_val):\n",
    "    '''\n",
    "    Creating z_rho (z coordinate value array at z_rho) using inver sigma-coordinate transform equation\n",
    "    \n",
    "    Args:\n",
    "        grd (xarray.Dataset) : Grid\n",
    "        itime (int) : Index value of time coordinate\n",
    "    Returns:\n",
    "        z_rho (ndarray) : z coordinate value array at (itime, s_rho[:], erho[:], xrho[:])\n",
    "    '''\n",
    "\n",
    "    z_rho = 0.0 + s_rho_val[0] * (ds['h'].values)\n",
    "    #print(z_rho.shape)\n",
    "    z_rho = z_rho[np.newaxis,:,:]  ### extend dimension\n",
    "    #print(z_rho.shape)\n",
    "    for k in np.arange(1, len(ds['s_rho'])):\n",
    "        z_rho1 = 0.0 + ds['s_rho'][k].values * (ds['h'].values + 0.0)\n",
    "        z_rho1 = z_rho1[np.newaxis,:,:]\n",
    "        #print(z_rho1.shape)\n",
    "        z_rho = np.vstack((z_rho, z_rho1))\n",
    "    return z_rho"
   ]
  },
  {
   "cell_type": "code",
   "execution_count": null,
   "metadata": {},
   "outputs": [],
   "source": [
    "dir_path = \"../../Projects/Sandy/\"\n",
    "grid_nc = dir_path + 'Sandy_roms_grid.nc'\n",
    "with xr.open_dataset(grid_nc) as ds:\n",
    "    pass\n",
    "\n",
    "def set_coords(ds, items):\n",
    "    for item in items:\n",
    "        ds.coords[item] = ds[item]\n",
    "    return ds\n",
    "items = [\"eta_psi\", \"eta_rho\", \"eta_u\", \"eta_v\", \"xi_psi\", \"xi_rho\", \"xi_u\", \"xi_v\"]\n",
    "ds = set_coords(ds, items)\n",
    "ds = ds.set_coords([\"x_rho\", \"y_rho\", \"lat_rho\", \"lon_rho\"])\n",
    "ds['s_rho'] = xr.DataArray(s_rho_val, dims=[\"s_rho\"])\n",
    "#ds['s_rho'].attrs[\"long_name\"] = \"S-coord\"\n",
    "ds['z_rho'] = ((\"s_rho\", \"eta_rho\", \"xi_rho\"), sigma_to_z_rho(ds, s_rho_val))\n",
    "#ds['z_rho'] = xr.DataArray(sigma_to_z_rho(ds, s_rho_val), dims=[\"s_rho\", \"eta_rho\", \"xi_rho\"])\n",
    "ds['z_rho'].attrs['long_name'] = 'z-coord'\n",
    "ds['z_rho'].attrs['units'] = 'm'\n",
    "ds.coords['z_rho'] = ds['z_rho']\n",
    "ds['depth'] = ds['z_rho']\n",
    "#ds.set_coords(['z_rho'])\n",
    "ds['s_rho'].attrs['long_name'] = 'S-coord'\n",
    "ds"
   ]
  },
  {
   "cell_type": "code",
   "execution_count": null,
   "metadata": {},
   "outputs": [],
   "source": [
    "### Grid number coords with specifying xlim and ylim\n",
    "xlim=(20,60)\n",
    "ylim=(20,50)\n",
    "ds.hvplot.quadmesh(x='xi_rho', y='eta_rho', z=z , \\\n",
    "                   frame_height=frame_height, frame_width=frame_width, cmap=cmap2, \\\n",
    "                   xlim=xlim, ylim=ylim, colorbar=False, \\\n",
    "                   line_color=line_color, line_alpha=1, line_width=0.1)"
   ]
  },
  {
   "cell_type": "code",
   "execution_count": null,
   "metadata": {},
   "outputs": [],
   "source": [
    "### Cartesian (x,y) coords\n",
    "ds.hvplot.quadmesh(x='x_rho', y='y_rho', z=z , \\\n",
    "                   frame_height=frame_height, frame_width=frame_width, cmap=cmap2, colorbar=False, \\\n",
    "                   line_color=line_color, line_alpha=1, line_width=0.1)"
   ]
  },
  {
   "cell_type": "code",
   "execution_count": null,
   "metadata": {},
   "outputs": [],
   "source": [
    "### Geographic coords without projection\n",
    "ds.hvplot.quadmesh(x='lon_rho', y='lat_rho', z=z , \\\n",
    "                   frame_height=frame_height, frame_width=frame_width, cmap=cmap2, colorbar=False, \\\n",
    "                   line_color=line_color, line_alpha=1, line_width=0.2)"
   ]
  },
  {
   "cell_type": "code",
   "execution_count": null,
   "metadata": {},
   "outputs": [],
   "source": [
    "### Geographic coords with tiles, however, coords values in hover are wrong\n",
    "ds.hvplot.quadmesh(x='lon_rho', y='lat_rho', z=z , geo=True, tiles=tiles, \\\n",
    "                   frame_height=frame_height, frame_width=frame_width, cmap=cmap2, colorbar=False, \\\n",
    "                   coastline=coastline, \\\n",
    "                   line_color=line_color, line_alpha=1, line_width=0.2, alpha=0.5)"
   ]
  },
  {
   "cell_type": "code",
   "execution_count": null,
   "metadata": {},
   "outputs": [],
   "source": [
    "### Geographic coords with specified projection, however, coords values in hover are wrong\n",
    "ds.hvplot.quadmesh(x='lon_rho', y='lat_rho', z=z , projection=proj, \\\n",
    "                   frame_height=frame_height, frame_width=frame_width, cmap=cmap2, colorbar=False, \\\n",
    "                   coastline=coastline, \\\n",
    "                   line_color=line_color, line_alpha=1, line_width=0.2)"
   ]
  },
  {
   "cell_type": "code",
   "execution_count": null,
   "metadata": {},
   "outputs": [],
   "source": [
    "ds.hvplot.quadmesh(groupby=['eta_rho'], x='xi_rho', y='s_rho', z='depth', \\\n",
    "                   frame_height=frame_height, frame_width=frame_width, cmap='magma', \\\n",
    "                   ylim=(-1, 0), line_color='aqua', line_alpha=1, line_width=0.1)"
   ]
  },
  {
   "cell_type": "code",
   "execution_count": null,
   "metadata": {},
   "outputs": [],
   "source": [
    "ds.hvplot.quadmesh(groupby=['eta_rho'], x='xi_rho', y='z_rho', z='depth', \\\n",
    "                   frame_height=frame_height, frame_width=frame_width, cmap='magma', \\\n",
    "                   ylim=(-5500, 0), line_color='aqua', line_alpha=1, line_width=0.1)"
   ]
  },
  {
   "cell_type": "code",
   "execution_count": null,
   "metadata": {},
   "outputs": [],
   "source": [
    "ds.hvplot.quadmesh(groupby=['xi_rho'], x='eta_rho', y='s_rho', z='depth', \\\n",
    "                   frame_height=frame_height, frame_width=frame_width, cmap='magma', \\\n",
    "                   ylim=(-1, 0), line_color='aqua', line_alpha=1, line_width=0.1)"
   ]
  },
  {
   "cell_type": "code",
   "execution_count": null,
   "metadata": {},
   "outputs": [],
   "source": [
    "ds.hvplot.quadmesh(groupby=['xi_rho'], x='eta_rho', y='z_rho', z='depth', \\\n",
    "                   frame_height=frame_height, frame_width=frame_width, cmap='magma', \\\n",
    "                   ylim=(-5500, 0), line_color='aqua', line_alpha=1, line_width=0.1)"
   ]
  },
  {
   "cell_type": "code",
   "execution_count": null,
   "metadata": {},
   "outputs": [],
   "source": [
    "#hv.help(hv.QuadMesh)"
   ]
  },
  {
   "cell_type": "markdown",
   "metadata": {},
   "source": [
    "# Plotting with matplotlib"
   ]
  },
  {
   "cell_type": "code",
   "execution_count": null,
   "metadata": {},
   "outputs": [],
   "source": [
    "cMap = c.ListedColormap(['darkgoldenrod', 'aqua'])\n",
    "ds[z].plot.pcolormesh(x='xi_rho', y='eta_rho', cmap=cMap, add_colorbar=False)"
   ]
  },
  {
   "cell_type": "code",
   "execution_count": null,
   "metadata": {},
   "outputs": [],
   "source": [
    "cMap = c.ListedColormap(['darkgoldenrod', 'aqua'])\n",
    "ds[z].plot.pcolormesh(x='lon_rho', y='lat_rho', cmap=cMap, add_colorbar=False)"
   ]
  },
  {
   "cell_type": "code",
   "execution_count": null,
   "metadata": {},
   "outputs": [],
   "source": [
    "p=ds[z].plot(x='xi_rho', y='eta_rho', cmap=cMap, add_colorbar=False, \\\n",
    "             alpha=1, edgecolor='grey', linewidth=0.01)\n",
    "#p.axes.set_xlim(40, 70)\n",
    "#p.axes.set_ylim(30, 50)\n",
    "p.figure.savefig('grid.png', dpi=300, bbox_inches='tight')"
   ]
  },
  {
   "cell_type": "markdown",
   "metadata": {},
   "source": [
    "## Vertical sectional view in z coordinate"
   ]
  },
  {
   "cell_type": "code",
   "execution_count": null,
   "metadata": {},
   "outputs": [],
   "source": [
    "ds['depth'].isel(eta_rho=0).plot.pcolormesh(x='xi_rho', y='s_rho', extend='both', cmap='magma')"
   ]
  },
  {
   "cell_type": "code",
   "execution_count": null,
   "metadata": {},
   "outputs": [],
   "source": [
    "p=ds['depth'].isel(eta_rho=0).plot.pcolormesh(x='xi_rho', y='z_rho', extend='both', cmap='magma',\\\n",
    "                                              alpha=1, edgecolor='aqua', linewidth=0.01)\n",
    "p.axes.set_facecolor('lightgray')\n",
    "p.figure.savefig('grid_ez.png', dpi=300, bbox_inches='tight')"
   ]
  },
  {
   "cell_type": "code",
   "execution_count": null,
   "metadata": {},
   "outputs": [],
   "source": [
    "ds['depth'].isel(xi_rho=30).plot.pcolormesh(x='eta_rho', y='s_rho', extend='both', cmap='magma')"
   ]
  },
  {
   "cell_type": "code",
   "execution_count": null,
   "metadata": {},
   "outputs": [],
   "source": [
    "p=ds['depth'].isel(xi_rho=30).plot.pcolormesh(x='eta_rho', y='z_rho', extend='both', cmap='magma')\n",
    "p.axes.set_facecolor('lightgray')\n",
    "p.figure.savefig('grid_xz.png', dpi=300, bbox_inches='tight')"
   ]
  },
  {
   "cell_type": "code",
   "execution_count": null,
   "metadata": {},
   "outputs": [],
   "source": []
  }
 ],
 "metadata": {
  "kernelspec": {
   "display_name": "Python 3",
   "language": "python",
   "name": "python3"
  },
  "language_info": {
   "codemirror_mode": {
    "name": "ipython",
    "version": 3
   },
   "file_extension": ".py",
   "mimetype": "text/x-python",
   "name": "python",
   "nbconvert_exporter": "python",
   "pygments_lexer": "ipython3",
   "version": "3.7.8"
  }
 },
 "nbformat": 4,
 "nbformat_minor": 4
}
